{
  "nbformat": 4,
  "nbformat_minor": 0,
  "metadata": {
    "colab": {
      "name": "Numpy Assignment.ipynb",
      "provenance": []
    },
    "kernelspec": {
      "name": "python3",
      "display_name": "Python 3"
    },
    "language_info": {
      "name": "python"
    }
  },
  "cells": [
    {
      "cell_type": "markdown",
      "metadata": {
        "id": "iVoemir5Y3sr"
      },
      "source": [
        "Problem Statement 1: \n",
        "Write a function so that the columns of the output matrix are powers of the input vector. \n",
        "The order of the powers is determined by the increasing boolean argument. Specifically, when  increasing is False, the i-th output column is the input vector raised element-wise to the power  of N - i - 1. \n",
        "HINT: Such a matrix with a geometric progression in each row is named for Alexandre Theophile Vandermonde. \n"
      ]
    },
    {
      "cell_type": "code",
      "metadata": {
        "colab": {
          "base_uri": "https://localhost:8080/"
        },
        "id": "mgR6vTUfOkD2",
        "outputId": "5877a008-480e-40c8-aed3-f248a412a0d2"
      },
      "source": [
        "import numpy as np#imported numpy and aliased as np\n",
        "def power(x,N):\n",
        "  #for every element in array we are performing power operation for N times\n",
        "  s=np.column_stack([x**(N-i-1) for i in range(N)])#np.column_stack is used to convert 1d array to 2D array by concatinating arrays column wise\n",
        "  print(s)\n",
        "  print(type(s))\n",
        "\n",
        "#Created an array using np.array\n",
        "x=np.array([1,2,3,4,5])\n",
        "N=5\n",
        "power(x,N)"
      ],
      "execution_count": 17,
      "outputs": [
        {
          "output_type": "stream",
          "text": [
            "[[  1   1   1   1   1]\n",
            " [ 16   8   4   2   1]\n",
            " [ 81  27   9   3   1]\n",
            " [256  64  16   4   1]\n",
            " [625 125  25   5   1]]\n",
            "<class 'numpy.ndarray'>\n"
          ],
          "name": "stdout"
        }
      ]
    },
    {
      "cell_type": "markdown",
      "metadata": {
        "id": "ORv51uBubwLa"
      },
      "source": [
        " Write a function to find moving average in an array over a window:  Test it over [3, 5, 7, 2, 8, 10, 11, 65, 72, 81, 99, 100, 150] and window of 3. "
      ]
    },
    {
      "cell_type": "code",
      "metadata": {
        "colab": {
          "base_uri": "https://localhost:8080/"
        },
        "id": "nvHaUh7GhHjf",
        "outputId": "21edc042-22af-4045-cfe8-bcc2452c9ca3"
      },
      "source": [
        "def average(l,n,k):\n",
        "  a=[]\n",
        "  for i in range(n-k+1):\n",
        "    sum=0\n",
        "    for j in range(k):\n",
        "      sum=sum+l[i+j]\n",
        "    sum=sum/k\n",
        "    a.append(sum)\n",
        "  a=np.array(a)\n",
        "  print(a)\n",
        "\n",
        "l=[3, 5, 7, 2, 8, 10, 11, 65, 72, 81, 99, 100, 150]\n",
        "n=13\n",
        "k=3\n",
        "average(l,n,k)"
      ],
      "execution_count": 40,
      "outputs": [
        {
          "output_type": "stream",
          "text": [
            "[  5.           4.66666667   5.66666667   6.66666667   9.66666667\n",
            "  28.66666667  49.33333333  72.66666667  84.          93.33333333\n",
            " 116.33333333]\n"
          ],
          "name": "stdout"
        }
      ]
    }
  ]
}